{
 "cells": [
  {
   "cell_type": "markdown",
   "metadata": {
    "colab_type": "text",
    "id": "view-in-github"
   },
   "source": [
    "<a href=\"https://colab.research.google.com/github/Varun-Mulchandani/roBERTa_based_SQuAD_QA/blob/master/SQuAD_understanding.ipynb\" target=\"_parent\"><img src=\"https://colab.research.google.com/assets/colab-badge.svg\" alt=\"Open In Colab\"/></a>"
   ]
  },
  {
   "cell_type": "markdown",
   "metadata": {
    "colab_type": "text",
    "id": "kDmj0-nGlur7"
   },
   "source": [
    "Understanding the SQuAD dataset for Question and Answering:"
   ]
  },
  {
   "cell_type": "code",
   "execution_count": 1,
   "metadata": {
    "colab": {},
    "colab_type": "code",
    "id": "TAfAW-XimwN8"
   },
   "outputs": [],
   "source": [
    "import json\n",
    "import pandas as pd"
   ]
  },
  {
   "cell_type": "markdown",
   "metadata": {
    "colab_type": "text",
    "id": "UWJbrpTGMCbi"
   },
   "source": [
    "The SQuAD dataset is in a json file:"
   ]
  },
  {
   "cell_type": "code",
   "execution_count": null,
   "metadata": {},
   "outputs": [],
   "source": [
    "f = open('dev-v2.0.json') #testing"
   ]
  },
  {
   "cell_type": "code",
   "execution_count": 63,
   "metadata": {
    "colab": {},
    "colab_type": "code",
    "id": "pcFVwG84lork"
   },
   "outputs": [],
   "source": [
    "f = open('../final/dataset/resultTotal.json') #training"
   ]
  },
  {
   "cell_type": "code",
   "execution_count": 11,
   "metadata": {
    "colab": {},
    "colab_type": "code",
    "id": "UqZU9Af1mL4J"
   },
   "outputs": [],
   "source": [
    "data = json.load(f)"
   ]
  },
  {
   "cell_type": "markdown",
   "metadata": {
    "colab_type": "text",
    "id": "9fT0VnpQMMrZ"
   },
   "source": [
    "Creating lists which we will add to out dataset:"
   ]
  },
  {
   "cell_type": "code",
   "execution_count": 12,
   "metadata": {
    "colab": {},
    "colab_type": "code",
    "id": "m3VDyCP0sL2u"
   },
   "outputs": [],
   "source": [
    "titles = []\n",
    "contexts = []\n",
    "questions = []\n",
    "ids =[]\n",
    "answers = []\n",
    "answer_start = []\n",
    "is_impossible = []\n",
    "for i in data['data']:\n",
    "  title = i['title']\n",
    "  for j in i['paragraphs']:\n",
    "    context = j['context']\n",
    "    for k in j['qas']:\n",
    "      question = k['question']\n",
    "      id_ = k['id']\n",
    "      is_impossible_ = k['is_impossible']\n",
    "      for l in k['answers']:\n",
    "        titles.append(title)\n",
    "        contexts.append(context)\n",
    "        questions.append(question)\n",
    "        ids.append(id_)\n",
    "        answers.append(l['text'])\n",
    "        answer_start.append(l['answer_start'])\n",
    "        is_impossible.append(is_impossible_)"
   ]
  },
  {
   "cell_type": "markdown",
   "metadata": {
    "colab_type": "text",
    "id": "dvZ7o5N2MlqJ"
   },
   "source": [
    "Considering the importance of the 'is_impossible' attribute:"
   ]
  },
  {
   "cell_type": "code",
   "execution_count": 13,
   "metadata": {
    "colab": {},
    "colab_type": "code",
    "id": "dogfH956I_YT"
   },
   "outputs": [],
   "source": [
    "for i in is_impossible:\n",
    "  if i == 'True':\n",
    "    print('h')"
   ]
  },
  {
   "cell_type": "code",
   "execution_count": 14,
   "metadata": {
    "colab": {},
    "colab_type": "code",
    "id": "NnXQ_P-LHYcO"
   },
   "outputs": [],
   "source": [
    "train = pd.DataFrame({'title':titles, 'question':questions, 'id':ids, 'answers':answers, 'answer_start':answer_start ,'context':contexts})"
   ]
  },
  {
   "cell_type": "code",
   "execution_count": 15,
   "metadata": {
    "colab": {
     "base_uri": "https://localhost:8080/",
     "height": 289
    },
    "colab_type": "code",
    "id": "GoY2Pcc1IRIA",
    "outputId": "2546ab29-af69-4620-f9a1-db49531d7b0b"
   },
   "outputs": [
    {
     "data": {
      "text/html": [
       "<div>\n",
       "<style scoped>\n",
       "    .dataframe tbody tr th:only-of-type {\n",
       "        vertical-align: middle;\n",
       "    }\n",
       "\n",
       "    .dataframe tbody tr th {\n",
       "        vertical-align: top;\n",
       "    }\n",
       "\n",
       "    .dataframe thead th {\n",
       "        text-align: right;\n",
       "    }\n",
       "</style>\n",
       "<table border=\"1\" class=\"dataframe\">\n",
       "  <thead>\n",
       "    <tr style=\"text-align: right;\">\n",
       "      <th></th>\n",
       "      <th>title</th>\n",
       "      <th>question</th>\n",
       "      <th>id</th>\n",
       "      <th>answers</th>\n",
       "      <th>answer_start</th>\n",
       "      <th>context</th>\n",
       "    </tr>\n",
       "  </thead>\n",
       "  <tbody>\n",
       "    <tr>\n",
       "      <th>0</th>\n",
       "      <td>Normans</td>\n",
       "      <td>In what country is Normandy located?</td>\n",
       "      <td>56ddde6b9a695914005b9628</td>\n",
       "      <td>France</td>\n",
       "      <td>159</td>\n",
       "      <td>The Normans (Norman: Nourmands; French: Norman...</td>\n",
       "    </tr>\n",
       "    <tr>\n",
       "      <th>1</th>\n",
       "      <td>Normans</td>\n",
       "      <td>In what country is Normandy located?</td>\n",
       "      <td>56ddde6b9a695914005b9628</td>\n",
       "      <td>France</td>\n",
       "      <td>159</td>\n",
       "      <td>The Normans (Norman: Nourmands; French: Norman...</td>\n",
       "    </tr>\n",
       "    <tr>\n",
       "      <th>2</th>\n",
       "      <td>Normans</td>\n",
       "      <td>In what country is Normandy located?</td>\n",
       "      <td>56ddde6b9a695914005b9628</td>\n",
       "      <td>France</td>\n",
       "      <td>159</td>\n",
       "      <td>The Normans (Norman: Nourmands; French: Norman...</td>\n",
       "    </tr>\n",
       "    <tr>\n",
       "      <th>3</th>\n",
       "      <td>Normans</td>\n",
       "      <td>In what country is Normandy located?</td>\n",
       "      <td>56ddde6b9a695914005b9628</td>\n",
       "      <td>France</td>\n",
       "      <td>159</td>\n",
       "      <td>The Normans (Norman: Nourmands; French: Norman...</td>\n",
       "    </tr>\n",
       "    <tr>\n",
       "      <th>4</th>\n",
       "      <td>Normans</td>\n",
       "      <td>When were the Normans in Normandy?</td>\n",
       "      <td>56ddde6b9a695914005b9629</td>\n",
       "      <td>10th and 11th centuries</td>\n",
       "      <td>94</td>\n",
       "      <td>The Normans (Norman: Nourmands; French: Norman...</td>\n",
       "    </tr>\n",
       "  </tbody>\n",
       "</table>\n",
       "</div>"
      ],
      "text/plain": [
       "     title                              question                        id   \n",
       "0  Normans  In what country is Normandy located?  56ddde6b9a695914005b9628  \\\n",
       "1  Normans  In what country is Normandy located?  56ddde6b9a695914005b9628   \n",
       "2  Normans  In what country is Normandy located?  56ddde6b9a695914005b9628   \n",
       "3  Normans  In what country is Normandy located?  56ddde6b9a695914005b9628   \n",
       "4  Normans    When were the Normans in Normandy?  56ddde6b9a695914005b9629   \n",
       "\n",
       "                   answers  answer_start   \n",
       "0                   France           159  \\\n",
       "1                   France           159   \n",
       "2                   France           159   \n",
       "3                   France           159   \n",
       "4  10th and 11th centuries            94   \n",
       "\n",
       "                                             context  \n",
       "0  The Normans (Norman: Nourmands; French: Norman...  \n",
       "1  The Normans (Norman: Nourmands; French: Norman...  \n",
       "2  The Normans (Norman: Nourmands; French: Norman...  \n",
       "3  The Normans (Norman: Nourmands; French: Norman...  \n",
       "4  The Normans (Norman: Nourmands; French: Norman...  "
      ]
     },
     "execution_count": 15,
     "metadata": {},
     "output_type": "execute_result"
    }
   ],
   "source": [
    "train.head()"
   ]
  },
  {
   "cell_type": "code",
   "execution_count": null,
   "metadata": {},
   "outputs": [],
   "source": [
    "train.to_csv('train.csv')"
   ]
  },
  {
   "cell_type": "markdown",
   "metadata": {},
   "source": [
    "Getting the testing data"
   ]
  },
  {
   "cell_type": "code",
   "execution_count": 21,
   "metadata": {},
   "outputs": [],
   "source": [
    "from sklearn.model_selection import train_test_split\n",
    "\n",
    "training_data, testing_data = train_test_split(train, test_size=0.0049, random_state=25)\n"
   ]
  },
  {
   "cell_type": "code",
   "execution_count": 22,
   "metadata": {},
   "outputs": [
    {
     "data": {
      "text/plain": [
       "(100, 6)"
      ]
     },
     "execution_count": 22,
     "metadata": {},
     "output_type": "execute_result"
    }
   ],
   "source": [
    "testing_data.shape"
   ]
  },
  {
   "cell_type": "code",
   "execution_count": 23,
   "metadata": {},
   "outputs": [],
   "source": [
    "testing_data.to_csv('test_100.csv')"
   ]
  },
  {
   "cell_type": "code",
   "execution_count": null,
   "metadata": {},
   "outputs": [],
   "source": []
  }
 ],
 "metadata": {
  "colab": {
   "authorship_tag": "ABX9TyPg0HyeTlQHwNQnGVqdoHtc",
   "collapsed_sections": [],
   "include_colab_link": true,
   "name": "SQuAD_understanding.ipynb",
   "provenance": []
  },
  "kernelspec": {
   "display_name": "Python 3 (ipykernel)",
   "language": "python",
   "name": "python3"
  },
  "language_info": {
   "codemirror_mode": {
    "name": "ipython",
    "version": 3
   },
   "file_extension": ".py",
   "mimetype": "text/x-python",
   "name": "python",
   "nbconvert_exporter": "python",
   "pygments_lexer": "ipython3",
   "version": "3.10.9"
  }
 },
 "nbformat": 4,
 "nbformat_minor": 1
}
