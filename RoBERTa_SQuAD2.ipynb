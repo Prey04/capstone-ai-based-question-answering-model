{
 "cells": [
  {
   "cell_type": "markdown",
   "metadata": {
    "id": "yOGCPDBz7mt_"
   },
   "source": [
    "Import necessary libraries"
   ]
  },
  {
   "cell_type": "code",
   "execution_count": 1,
   "metadata": {
    "colab": {
     "base_uri": "https://localhost:8080/",
     "height": 34
    },
    "collapsed": true,
    "id": "t5zlrgIl5i3q",
    "outputId": "723587f1-7eec-4659-8978-91e86639d7cd"
   },
   "outputs": [
    {
     "name": "stderr",
     "output_type": "stream",
     "text": [
      "c:\\Python311\\Lib\\site-packages\\tqdm\\auto.py:21: TqdmWarning: IProgress not found. Please update jupyter and ipywidgets. See https://ipywidgets.readthedocs.io/en/stable/user_install.html\n",
      "  from .autonotebook import tqdm as notebook_tqdm\n",
      "C:\\Users\\prani\\AppData\\Roaming\\Python\\Python311\\site-packages\\transformers\\generation_tf_utils.py:24: FutureWarning: Importing `TFGenerationMixin` from `src/transformers/generation_tf_utils.py` is deprecated and will be removed in Transformers v5. Import as `from transformers import TFGenerationMixin` instead.\n",
      "  warnings.warn(\n"
     ]
    },
    {
     "name": "stdout",
     "output_type": "stream",
     "text": [
      "TF version 2.12.0\n"
     ]
    }
   ],
   "source": [
    "import numpy as np\n",
    "import pandas as pd\n",
    "import tensorflow as tf\n",
    "import tensorflow.keras.backend as K\n",
    "from sklearn.model_selection import StratifiedKFold\n",
    "from transformers import *\n",
    "import tokenizers\n",
    "print('TF version', tf.__version__)"
   ]
  },
  {
   "cell_type": "code",
   "execution_count": 2,
   "metadata": {
    "id": "jDN0CKbE5ztn"
   },
   "outputs": [],
   "source": [
    "MAX_LEN = 512\n",
    "\n",
    "tokenizer = tokenizers.ByteLevelBPETokenizer(\n",
    "    vocab = 'D:/capstone/roberta-base-squad2/vocab.json',\n",
    "    merges = 'D:/capstone/roberta-base-squad2/merges.txt',\n",
    "    lowercase = True,\n",
    "    add_prefix_space = True\n",
    ")"
   ]
  },
  {
   "cell_type": "markdown",
   "metadata": {
    "id": "gjXKqzG48KvL"
   },
   "source": [
    "Loading the SQuAD dataset which has been converted to a csv file:"
   ]
  },
  {
   "cell_type": "code",
   "execution_count": 3,
   "metadata": {
    "colab": {
     "base_uri": "https://localhost:8080/",
     "height": 204
    },
    "id": "r197F3Uo6fyx",
    "outputId": "5221c7f7-c11c-45bc-e8ee-fe97596f4342"
   },
   "outputs": [
    {
     "data": {
      "text/html": [
       "<div>\n",
       "<style scoped>\n",
       "    .dataframe tbody tr th:only-of-type {\n",
       "        vertical-align: middle;\n",
       "    }\n",
       "\n",
       "    .dataframe tbody tr th {\n",
       "        vertical-align: top;\n",
       "    }\n",
       "\n",
       "    .dataframe thead th {\n",
       "        text-align: right;\n",
       "    }\n",
       "</style>\n",
       "<table border=\"1\" class=\"dataframe\">\n",
       "  <thead>\n",
       "    <tr style=\"text-align: right;\">\n",
       "      <th></th>\n",
       "      <th>Unnamed: 0</th>\n",
       "      <th>title</th>\n",
       "      <th>question</th>\n",
       "      <th>id</th>\n",
       "      <th>answers</th>\n",
       "      <th>answer_start</th>\n",
       "      <th>context</th>\n",
       "    </tr>\n",
       "  </thead>\n",
       "  <tbody>\n",
       "    <tr>\n",
       "      <th>0</th>\n",
       "      <td>0</td>\n",
       "      <td>assessee for income tax</td>\n",
       "      <td>what is the responsibilty of the assessee ?</td>\n",
       "      <td>id_0_0_1</td>\n",
       "      <td>the assessee shall be responsible for administ...</td>\n",
       "      <td>0</td>\n",
       "      <td>the assessee shall be responsible for administ...</td>\n",
       "    </tr>\n",
       "    <tr>\n",
       "      <th>1</th>\n",
       "      <td>1</td>\n",
       "      <td>assessee for income tax</td>\n",
       "      <td>who is responsible for administering or invest...</td>\n",
       "      <td>id_0_0_2</td>\n",
       "      <td>the assessee shall be responsible for administ...</td>\n",
       "      <td>0</td>\n",
       "      <td>the assessee shall be responsible for administ...</td>\n",
       "    </tr>\n",
       "    <tr>\n",
       "      <th>2</th>\n",
       "      <td>2</td>\n",
       "      <td>assessee for income tax</td>\n",
       "      <td>what is the per cent of the total value of the...</td>\n",
       "      <td>id_0_0_3</td>\n",
       "      <td>not more than ten per cent. of the total value...</td>\n",
       "      <td>373</td>\n",
       "      <td>the assessee shall be responsible for administ...</td>\n",
       "    </tr>\n",
       "    <tr>\n",
       "      <th>3</th>\n",
       "      <td>3</td>\n",
       "      <td>assessee for income tax</td>\n",
       "      <td>what is the maximum per cent of the total valu...</td>\n",
       "      <td>id_0_0_5</td>\n",
       "      <td>ten per cent. of the total value of the assets...</td>\n",
       "      <td>387</td>\n",
       "      <td>the assessee shall be responsible for administ...</td>\n",
       "    </tr>\n",
       "    <tr>\n",
       "      <th>4</th>\n",
       "      <td>4</td>\n",
       "      <td>income-tax (20th amendment)rules, 2022</td>\n",
       "      <td>when did the income-tax (20th amendment)rules,...</td>\n",
       "      <td>id_1_0_1</td>\n",
       "      <td>they shall come into force from 1st day of jul...</td>\n",
       "      <td>74</td>\n",
       "      <td>these rules may be called the income-tax (20th...</td>\n",
       "    </tr>\n",
       "  </tbody>\n",
       "</table>\n",
       "</div>"
      ],
      "text/plain": [
       "   Unnamed: 0                                   title   \n",
       "0           0                 assessee for income tax  \\\n",
       "1           1                 assessee for income tax   \n",
       "2           2                 assessee for income tax   \n",
       "3           3                 assessee for income tax   \n",
       "4           4  income-tax (20th amendment)rules, 2022   \n",
       "\n",
       "                                            question        id   \n",
       "0        what is the responsibilty of the assessee ?  id_0_0_1  \\\n",
       "1  who is responsible for administering or invest...  id_0_0_2   \n",
       "2  what is the per cent of the total value of the...  id_0_0_3   \n",
       "3  what is the maximum per cent of the total valu...  id_0_0_5   \n",
       "4  when did the income-tax (20th amendment)rules,...  id_1_0_1   \n",
       "\n",
       "                                             answers  answer_start   \n",
       "0  the assessee shall be responsible for administ...             0  \\\n",
       "1  the assessee shall be responsible for administ...             0   \n",
       "2  not more than ten per cent. of the total value...           373   \n",
       "3  ten per cent. of the total value of the assets...           387   \n",
       "4  they shall come into force from 1st day of jul...            74   \n",
       "\n",
       "                                             context  \n",
       "0  the assessee shall be responsible for administ...  \n",
       "1  the assessee shall be responsible for administ...  \n",
       "2  the assessee shall be responsible for administ...  \n",
       "3  the assessee shall be responsible for administ...  \n",
       "4  these rules may be called the income-tax (20th...  "
      ]
     },
     "execution_count": 3,
     "metadata": {},
     "output_type": "execute_result"
    }
   ],
   "source": [
    "train = pd.read_csv('train.csv').fillna('')\n",
    "train.head()"
   ]
  },
  {
   "cell_type": "code",
   "execution_count": 4,
   "metadata": {
    "id": "O7xIamCY6n82"
   },
   "outputs": [],
   "source": [
    "rec = train.shape[0]  # Number of records in the training set\n",
    "inputs = np.ones((rec, MAX_LEN), dtype = 'int32') # Input vector\n",
    "attention_mask = np.zeros((rec, MAX_LEN), dtype = 'int32') # Attention Mask\n",
    "token_type_ids = np.zeros((rec, MAX_LEN), dtype = 'int32') # Tokens produced\n",
    "start_tokens = np.zeros((rec, MAX_LEN), dtype = 'int32') # Start logit for answer\n",
    "end_tokens = np.zeros((rec, MAX_LEN), dtype = 'int32') # End logit for answer\n",
    "\n",
    "for i in range(rec):\n",
    "\n",
    "  context = ' '+' '.join(train.loc[i, 'context'].split())\n",
    "  answer = ' '+' '.join(train.loc[i, 'answers'].split())\n",
    "  question = ' '+' '.join(train.loc[i, 'question'].split())\n",
    "\n",
    "  start_idx = train.loc[i, 'answer_start']\n",
    "  chars = np.zeros((len(context)))\n",
    "  chars[start_idx:start_idx + len(answer)] = 1\n",
    "  if context[start_idx - 1] == ' ':\n",
    "    chars[start_idx - 1] = 1\n",
    "  \n",
    "  enc1 = tokenizer.encode(context)\n",
    "  enc2 = tokenizer.encode(question)\n",
    "\n",
    "  # For resource limitations only.\n",
    "\n",
    "  if len(enc1) + len(enc2) + 4 < MAX_LEN:\n",
    "\n",
    "    #creating offsets\n",
    "    offsets = []\n",
    "    start_idx = 0\n",
    "\n",
    "    for t in enc1.ids:\n",
    "      w = tokenizer.decode([t])\n",
    "      offsets.append((start_idx, start_idx + len(w)))\n",
    "      start_idx += len(w)\n",
    "    \n",
    "    # Those which are a part of the answer\n",
    "\n",
    "    tokens = []\n",
    "    for j, (a, b) in enumerate(offsets):\n",
    "      sum_ = np.sum(chars[a:b])\n",
    "      if sum_ > 0:\n",
    "        tokens.append(j)\n",
    "\n",
    "    # The input for roberta is in the form <s> Question </s></s> Context </s>\n",
    "    \n",
    "    inputs[i, :len(enc1.ids) + len(enc2.ids) + 4] = [0] + enc2.ids + [2,2] + enc1.ids + [2]\n",
    "\n",
    "    attention_mask[i, :len(enc1.ids) + len(enc2.ids) + 4] = 1\n",
    "\n",
    "    if len(tokens) > 0:\n",
    "      start_tokens[i, tokens[0] + 1] = 1\n",
    "      end_tokens[i, tokens[-1] + 1] = 1\n"
   ]
  },
  {
   "cell_type": "code",
   "execution_count": 6,
   "metadata": {
    "id": "LWJ6yUM3FxIy"
   },
   "outputs": [],
   "source": [
    "def build_model():\n",
    "  ids = tf.keras.layers.Input((MAX_LEN,), dtype = tf.int32)\n",
    "  att = tf.keras.layers.Input((MAX_LEN,), dtype = tf.int32)\n",
    "  tok = tf.keras.layers.Input((MAX_LEN,), dtype = tf.int32)\n",
    "\n",
    "  config = RobertaConfig.from_pretrained('D:/capstone/roberta-base-squad2/config.json')\n",
    "  bert_model = TFRobertaModel.from_pretrained('D:/capstone/roberta-base-squad2/tf_model.h5', config = config)\n",
    "  x = bert_model(ids, attention_mask=att, token_type_ids = tok)\n",
    "\n",
    "  # For start logit\n",
    "\n",
    "  x1 = tf.keras.layers.Dropout(0.1)(x[0])\n",
    "  x1 = tf.keras.layers.Conv1D(1,1)(x1)\n",
    "  x1 = tf.keras.layers.Flatten()(x1)\n",
    "  x1 = tf.keras.layers.Activation('softmax')(x1)\n",
    "\n",
    "  # For end logit\n",
    "\n",
    "  x2 = tf.keras.layers.Dropout(0.1)(x[0]) \n",
    "  x2 = tf.keras.layers.Conv1D(1,1)(x2)\n",
    "  x2 = tf.keras.layers.Flatten()(x2)\n",
    "  x2 = tf.keras.layers.Activation('softmax')(x2)\n",
    "\n",
    "  # Initalising the model\n",
    "\n",
    "  model = tf.keras.models.Model(inputs = [ids, att, tok], outputs = [x1, x2])\n",
    "  optimizer = tf.keras.optimizers.Adam(learning_rate = 3e-5)\n",
    "  model.compile(loss='categorical_crossentropy', optimizer = optimizer)\n",
    "\n",
    "  return model"
   ]
  },
  {
   "cell_type": "code",
   "execution_count": 7,
   "metadata": {
    "colab": {
     "base_uri": "https://localhost:8080/",
     "height": 85
    },
    "collapsed": true,
    "id": "oE0rxYcoH5uz",
    "outputId": "27a9524e-de1b-4c96-ab46-74bde3ba40ac"
   },
   "outputs": [
    {
     "name": "stderr",
     "output_type": "stream",
     "text": [
      "loading configuration file D:/capstone/roberta-base-squad2/config.json\n",
      "Model config RobertaConfig {\n",
      "  \"architectures\": [\n",
      "    \"RobertaForQuestionAnswering\"\n",
      "  ],\n",
      "  \"attention_probs_dropout_prob\": 0.1,\n",
      "  \"bos_token_id\": 0,\n",
      "  \"classifier_dropout\": null,\n",
      "  \"eos_token_id\": 2,\n",
      "  \"gradient_checkpointing\": false,\n",
      "  \"hidden_act\": \"gelu\",\n",
      "  \"hidden_dropout_prob\": 0.1,\n",
      "  \"hidden_size\": 768,\n",
      "  \"initializer_range\": 0.02,\n",
      "  \"intermediate_size\": 3072,\n",
      "  \"language\": \"english\",\n",
      "  \"layer_norm_eps\": 1e-05,\n",
      "  \"max_position_embeddings\": 514,\n",
      "  \"model_type\": \"roberta\",\n",
      "  \"name\": \"Roberta\",\n",
      "  \"num_attention_heads\": 12,\n",
      "  \"num_hidden_layers\": 12,\n",
      "  \"pad_token_id\": 1,\n",
      "  \"position_embedding_type\": \"absolute\",\n",
      "  \"transformers_version\": \"4.27.4\",\n",
      "  \"type_vocab_size\": 1,\n",
      "  \"use_cache\": true,\n",
      "  \"vocab_size\": 50265\n",
      "}\n",
      "\n",
      "loading weights file D:/capstone/roberta-base-squad2/tf_model.h5\n",
      "Some layers from the model checkpoint at D:/capstone/roberta-base-squad2/tf_model.h5 were not used when initializing TFRobertaModel: ['qa_outputs']\n",
      "- This IS expected if you are initializing TFRobertaModel from the checkpoint of a model trained on another task or with another architecture (e.g. initializing a BertForSequenceClassification model from a BertForPreTraining model).\n",
      "- This IS NOT expected if you are initializing TFRobertaModel from the checkpoint of a model that you expect to be exactly identical (initializing a BertForSequenceClassification model from a BertForSequenceClassification model).\n",
      "Some layers of TFRobertaModel were not initialized from the model checkpoint at D:/capstone/roberta-base-squad2/tf_model.h5 and are newly initialized: ['roberta/pooler/dense/kernel:0', 'roberta/pooler/dense/bias:0']\n",
      "You should probably TRAIN this model on a down-stream task to be able to use it for predictions and inference.\n"
     ]
    }
   ],
   "source": [
    "model = build_model()"
   ]
  },
  {
   "cell_type": "markdown",
   "metadata": {},
   "source": [
    "Fitting the model with our dataset"
   ]
  },
  {
   "cell_type": "code",
   "execution_count": 9,
   "metadata": {
    "colab": {
     "base_uri": "https://localhost:8080/",
     "height": 207
    },
    "id": "6IeU7b3IH8mQ",
    "outputId": "244bfbf2-6301-45c7-9f67-cb34cc433e33",
    "scrolled": true
   },
   "outputs": [
    {
     "name": "stdout",
     "output_type": "stream",
     "text": [
      "Epoch 1/3\n",
      "WARNING:tensorflow:Gradients do not exist for variables ['tf_roberta_model/roberta/pooler/dense/kernel:0', 'tf_roberta_model/roberta/pooler/dense/bias:0'] when minimizing the loss. If you're using `model.compile()`, did you forget to provide a `loss` argument?\n",
      "WARNING:tensorflow:Gradients do not exist for variables ['tf_roberta_model/roberta/pooler/dense/kernel:0', 'tf_roberta_model/roberta/pooler/dense/bias:0'] when minimizing the loss. If you're using `model.compile()`, did you forget to provide a `loss` argument?\n",
      "WARNING:tensorflow:Gradients do not exist for variables ['tf_roberta_model/roberta/pooler/dense/kernel:0', 'tf_roberta_model/roberta/pooler/dense/bias:0'] when minimizing the loss. If you're using `model.compile()`, did you forget to provide a `loss` argument?\n",
      "WARNING:tensorflow:Gradients do not exist for variables ['tf_roberta_model/roberta/pooler/dense/kernel:0', 'tf_roberta_model/roberta/pooler/dense/bias:0'] when minimizing the loss. If you're using `model.compile()`, did you forget to provide a `loss` argument?\n",
      "1236/1236 [==============================] - 23096s 19s/step - loss: 7.7488 - activation_loss: 3.7582 - activation_1_loss: 3.9906 - val_loss: 7.5948 - val_activation_loss: 3.4880 - val_activation_1_loss: 4.1068\n",
      "Epoch 2/3\n",
      "1236/1236 [==============================] - 43794s 35s/step - loss: 6.5194 - activation_loss: 3.2028 - activation_1_loss: 3.3166 - val_loss: 7.3293 - val_activation_loss: 3.4432 - val_activation_1_loss: 3.8860\n",
      "Epoch 3/3\n",
      "1236/1236 [==============================] - 16231s 13s/step - loss: 5.6215 - activation_loss: 2.7872 - activation_1_loss: 2.8343 - val_loss: 6.9012 - val_activation_loss: 3.2906 - val_activation_1_loss: 3.6105\n"
     ]
    }
   ],
   "source": [
    "# history = model.fit([inputs, attention_mask, token_type_ids], [start_tokens, end_tokens], epochs = 3, batch_size = 4, validation_split = 0.1)"
   ]
  },
  {
   "cell_type": "code",
   "execution_count": null,
   "metadata": {},
   "outputs": [],
   "source": [
    "model.save('roberta_model') #saving the model after fitting "
   ]
  },
  {
   "cell_type": "code",
   "execution_count": 8,
   "metadata": {},
   "outputs": [
    {
     "data": {
      "text/plain": [
       "<tensorflow.python.checkpoint.checkpoint.CheckpointLoadStatus at 0x1ae77638210>"
      ]
     },
     "execution_count": 8,
     "metadata": {},
     "output_type": "execute_result"
    }
   ],
   "source": [
    "model.load_weights(\"roberta_model\") #loading the weights after fitting the model"
   ]
  },
  {
   "cell_type": "code",
   "execution_count": 9,
   "metadata": {
    "colab": {
     "base_uri": "https://localhost:8080/",
     "height": 54
    },
    "id": "CFuDn_hUCzY-",
    "outputId": "868b5bbb-daeb-4d11-a810-63fdd1062944"
   },
   "outputs": [
    {
     "name": "stdout",
     "output_type": "stream",
     "text": [
      "[1030, 7668, 8941, 7, 5730, 126, 5730, 16, 5, 762, 50, 45261, 9, 70, 3034, 1538, 2189, 8941, 7, 5, 11827, 4, 5, 7404, 13, 14999, 9, 5730, 16, 17171, 149, 2810, 24404, 102, 9, 5, 1760, 4, 5, 7089, 13, 2502, 13, 5730, 16, 14255, 11, 2178, 15900, 9, 5, 1492, 4, 5, 4620, 14255, 13, 5730, 2502, 32, 2766, 102, 8, 2766, 6621, 13, 9473, 811, 8, 1093, 2286, 73, 1342, 2192, 4, 17977, 9, 5730, 34, 57, 17171, 13, 1402, 5538, 1065, 17966, 11543, 923, 11, 2178, 15900, 428, 9, 5, 1492, 4]\n"
     ]
    }
   ],
   "source": [
    "print(enc1.ids)"
   ]
  },
  {
   "cell_type": "code",
   "execution_count": 10,
   "metadata": {
    "colab": {
     "base_uri": "https://localhost:8080/",
     "height": 71
    },
    "id": "3M2SP0rNnO0L",
    "outputId": "b940108f-3ade-45ce-a28b-401f7b7c69ba"
   },
   "outputs": [
    {
     "name": "stdout",
     "output_type": "stream",
     "text": [
      "15\n",
      "[(0, 7), (7, 10), (10, 11), (11, 14), (14, 17), (17, 24), (24, 26), (26, 40), (40, 51), (51, 59), (59, 64), (64, 76), (76, 79), (79, 88), (88, 89), (89, 96), (96, 105), (105, 109), (109, 118), (118, 119), (119, 125), (125, 133), (133, 140), (140, 152), (152, 165), (165, 166), (166, 173), (173, 180), (180, 181), (181, 187), (187, 197), (197, 198), (198, 207), (207, 208), (208, 212), (212, 221), (221, 222), (222, 225), (225, 228), (228, 239), (239, 243), (243, 246), (246, 250), (250, 254), (254, 259), (259, 270), (270, 280), (280, 281), (281, 291), (291, 294), (294, 298), (298, 299), (299, 305), (305, 306), (306, 310), (310, 319), (319, 320)]\n"
     ]
    }
   ],
   "source": [
    "con = 'Google LLC is an American multinational technology company that specializes in Internet-related services and products, which include online advertising technologies, search engine, cloud computing, software, and hardware. It is considered one of the Big Four technology companies, alongside Amazon, Apple, and Facebook.'\n",
    "que = 'What is Google?'\n",
    "\n",
    "inp_id = np.zeros((1,MAX_LEN),dtype='int32')\n",
    "attn_mask_input = np.zeros((1,MAX_LEN),dtype='int32')\n",
    "token_type_id_input = np.zeros((1,MAX_LEN),dtype='int32')\n",
    "inpenc = tokenizer.encode(con)\n",
    "queenc = tokenizer.encode(que)\n",
    "print(len(que))\n",
    "#chars_1 = np.zeros((len(con)))\n",
    "#chars_1[idx:idx + len(text2)] = 1\n",
    "\n",
    "offset = []\n",
    "id_ = 0\n",
    "for t in inpenc.ids:\n",
    "  w = tokenizer.decode([t])\n",
    "  offset.append((id_, id_ + len(w)))\n",
    "  id_ += len(w)\n",
    "print(offset)\n",
    "\n",
    "inp_id[0,:len(inpenc.ids)+len(queenc.ids) + 4] = [0] + queenc.ids + [2,2] + inpenc.ids + [2]\n",
    "attn_mask_input[0,:len(inpenc.ids)+len(queenc.ids) + 4] = 1"
   ]
  },
  {
   "cell_type": "markdown",
   "metadata": {},
   "source": [
    "Function to predict answer given a context and question"
   ]
  },
  {
   "cell_type": "code",
   "execution_count": 11,
   "metadata": {
    "id": "lxdQkermPngl"
   },
   "outputs": [],
   "source": [
    "def generate_ans(con,que,model,tokenizer):\n",
    "  inp_id = np.zeros((1,MAX_LEN),dtype='int32')\n",
    "  attn_mask_input = np.zeros((1,MAX_LEN),dtype='int32')\n",
    "  token_type_id_input = np.zeros((1,MAX_LEN),dtype='int32')\n",
    "  inpenc = tokenizer.encode(con)\n",
    "  queenc = tokenizer.encode(que)\n",
    "  inp_id[0,:len(inpenc.ids)+len(queenc.ids) + 4] = [0] + queenc.ids + [2,2] + inpenc.ids + [2]\n",
    "  attn_mask_input[0,:len(inpenc.ids)+len(queenc.ids) + 4] = 1\n",
    "  s, f = model.predict([inp_id,attn_mask_input,token_type_id_input])\n",
    "  s_ = np.argmax(s[0,])\n",
    "  f_ = np.argmax(f[0,])\n",
    "  ans = tokenizer.decode(inpenc.ids[s_ - 1: f_ + 1])\n",
    "\n",
    "  return ans"
   ]
  },
  {
   "cell_type": "markdown",
   "metadata": {},
   "source": [
    "Testing 1"
   ]
  },
  {
   "cell_type": "code",
   "execution_count": 12,
   "metadata": {
    "colab": {
     "base_uri": "https://localhost:8080/",
     "height": 54
    },
    "id": "zsD8JPd2RNlN",
    "outputId": "9b17a307-f966-4298-821a-b857f6cb76c5"
   },
   "outputs": [
    {
     "name": "stdout",
     "output_type": "stream",
     "text": [
      "1/1 [==============================] - 4s 4s/step\n",
      " cancer is\n"
     ]
    }
   ],
   "source": [
    "con = 'Cancer is a group of diseases involving abnormal cell\\\n",
    " growth with the potential to invade or spread to other parts of the body\\\n",
    " . These contrast with benign tumors, which do not spread.\\\n",
    "  Possible signs and symptoms include a lump, abnormal bleeding\\\n",
    "  , prolonged cough, unexplained weight loss, and a change in\\\n",
    "   bowel movements. While these symptoms may indicate cancer,\\\n",
    "    they can also have other causes. Over 100 types of cancers \\\n",
    "    affect humans'\n",
    "que = 'What disease involves abnormal cell growth?'\n",
    "ans = generate_ans(con,que,model,tokenizer)\n",
    "print(ans)"
   ]
  },
  {
   "cell_type": "code",
   "execution_count": 13,
   "metadata": {
    "colab": {
     "base_uri": "https://localhost:8080/",
     "height": 34
    },
    "id": "zB3qnsWQUoU0",
    "outputId": "5b2cc7bd-5a46-4d3c-af5b-d9da1dd44d95"
   },
   "outputs": [
    {
     "name": "stdout",
     "output_type": "stream",
     "text": [
      "1/1 [==============================] - 1s 1s/step\n",
      " spread.  possible signs and symptoms include a lump, abnormal bleeding  , prolonged cough, unexplained weight loss, and a change in   bowel\n"
     ]
    }
   ],
   "source": [
    "que = 'what are symptoms?'\n",
    "ans = generate_ans(con,que,model,tokenizer)\n",
    "print(ans)"
   ]
  },
  {
   "cell_type": "code",
   "execution_count": 14,
   "metadata": {
    "colab": {
     "base_uri": "https://localhost:8080/",
     "height": 34
    },
    "id": "E1FfxmMZS43t",
    "outputId": "ce934278-ba79-4453-b783-68100aa3064d"
   },
   "outputs": [
    {
     "name": "stdout",
     "output_type": "stream",
     "text": [
      "1/1 [==============================] - 1s 873ms/step\n",
      " other causes. over 100\n"
     ]
    }
   ],
   "source": [
    "que = 'how many types?'\n",
    "ans = generate_ans(con,que,model,tokenizer)\n",
    "print(ans)"
   ]
  },
  {
   "cell_type": "markdown",
   "metadata": {
    "id": "oJJAZKHMXFG8"
   },
   "source": [
    "Testing 2"
   ]
  },
  {
   "cell_type": "code",
   "execution_count": 15,
   "metadata": {
    "id": "RoWZjghp_CKu"
   },
   "outputs": [],
   "source": [
    "con2 = \"Malaria is a life-threatening disease caused by parasites that are transmitted to people through the bites of infected female Anopheles mosquitoes. It is preventable and curable. In 2018, there were an estimated 228 million cases of malaria worldwide. The WHO African Region carries a disproportionately high share of the global malaria burden. In 2018, the region was home to 93% of malaria cases and 94% of malaria deaths.\""
   ]
  },
  {
   "cell_type": "code",
   "execution_count": 16,
   "metadata": {
    "colab": {
     "base_uri": "https://localhost:8080/",
     "height": 34
    },
    "id": "7G9RE5nv_YvA",
    "outputId": "5f198b8c-5b1f-44a2-c49d-f672c853038f"
   },
   "outputs": [
    {
     "name": "stdout",
     "output_type": "stream",
     "text": [
      "1/1 [==============================] - 1s 886ms/step\n",
      " malaria is a life-threatening disease caused by parasites that are transmitted to people through the bites of infected female anopheles mosquitoes. it is preventable and cur\n"
     ]
    }
   ],
   "source": [
    "que2 = 'What is Malaria?'\n",
    "ans2 = generate_ans(con2,que2,model,tokenizer)\n",
    "print(ans2)"
   ]
  },
  {
   "cell_type": "code",
   "execution_count": 17,
   "metadata": {
    "colab": {
     "base_uri": "https://localhost:8080/",
     "height": 34
    },
    "id": "YsSHwxVs_u1i",
    "outputId": "a208fd70-ecb9-4f8d-8341-16c7f49b3632"
   },
   "outputs": [
    {
     "name": "stdout",
     "output_type": "stream",
     "text": [
      "1/1 [==============================] - 1s 986ms/step\n",
      " malaria is a life-threatening disease caused by parasites that are transmitted to people through the bites of infected female anopheles mosquitoes\n"
     ]
    }
   ],
   "source": [
    "que2 = 'What causes Malaria?'\n",
    "ans2 = generate_ans(con2,que2,model,tokenizer)\n",
    "print(ans2)"
   ]
  },
  {
   "cell_type": "code",
   "execution_count": 18,
   "metadata": {
    "colab": {
     "base_uri": "https://localhost:8080/",
     "height": 34
    },
    "id": "KVkKhjmd_57J",
    "outputId": "4a8c323c-85e8-4eaf-9ada-2d7f41f8847b"
   },
   "outputs": [
    {
     "name": "stdout",
     "output_type": "stream",
     "text": [
      "1/1 [==============================] - 1s 866ms/step\n",
      ". it is preventable and curable\n"
     ]
    }
   ],
   "source": [
    "que2 = 'Is malaria preventable?'\n",
    "ans2 = generate_ans(con2,que2,model,tokenizer)\n",
    "print(ans2)"
   ]
  },
  {
   "cell_type": "markdown",
   "metadata": {},
   "source": [
    "Testing with a file"
   ]
  },
  {
   "cell_type": "code",
   "execution_count": 33,
   "metadata": {},
   "outputs": [
    {
     "data": {
      "text/html": [
       "<div>\n",
       "<style scoped>\n",
       "    .dataframe tbody tr th:only-of-type {\n",
       "        vertical-align: middle;\n",
       "    }\n",
       "\n",
       "    .dataframe tbody tr th {\n",
       "        vertical-align: top;\n",
       "    }\n",
       "\n",
       "    .dataframe thead th {\n",
       "        text-align: right;\n",
       "    }\n",
       "</style>\n",
       "<table border=\"1\" class=\"dataframe\">\n",
       "  <thead>\n",
       "    <tr style=\"text-align: right;\">\n",
       "      <th></th>\n",
       "      <th>question</th>\n",
       "      <th>context</th>\n",
       "    </tr>\n",
       "  </thead>\n",
       "  <tbody>\n",
       "    <tr>\n",
       "      <th>0</th>\n",
       "      <td>What status has the Brotherhood obtained in th...</td>\n",
       "      <td>Despite periodic repression, the Brotherhood h...</td>\n",
       "    </tr>\n",
       "    <tr>\n",
       "      <th>1</th>\n",
       "      <td>What impact does higher worker productivity an...</td>\n",
       "      <td>In Marxian analysis, capitalist firms increasi...</td>\n",
       "    </tr>\n",
       "    <tr>\n",
       "      <th>2</th>\n",
       "      <td>What is the goal of individual civil disobedie...</td>\n",
       "      <td>Non-revolutionary civil disobedience is a simp...</td>\n",
       "    </tr>\n",
       "    <tr>\n",
       "      <th>3</th>\n",
       "      <td>What is set aside for question periods in the ...</td>\n",
       "      <td>Parliamentary time is also set aside for quest...</td>\n",
       "    </tr>\n",
       "    <tr>\n",
       "      <th>4</th>\n",
       "      <td>What year was the University of Warsaw establi...</td>\n",
       "      <td>The University of Warsaw was established in 18...</td>\n",
       "    </tr>\n",
       "  </tbody>\n",
       "</table>\n",
       "</div>"
      ],
      "text/plain": [
       "                                            question   \n",
       "0  What status has the Brotherhood obtained in th...  \\\n",
       "1  What impact does higher worker productivity an...   \n",
       "2  What is the goal of individual civil disobedie...   \n",
       "3  What is set aside for question periods in the ...   \n",
       "4  What year was the University of Warsaw establi...   \n",
       "\n",
       "                                             context  \n",
       "0  Despite periodic repression, the Brotherhood h...  \n",
       "1  In Marxian analysis, capitalist firms increasi...  \n",
       "2  Non-revolutionary civil disobedience is a simp...  \n",
       "3  Parliamentary time is also set aside for quest...  \n",
       "4  The University of Warsaw was established in 18...  "
      ]
     },
     "execution_count": 33,
     "metadata": {},
     "output_type": "execute_result"
    }
   ],
   "source": [
    "test_df = pd.read_csv('test_100.csv')\n",
    "test_df.head()"
   ]
  },
  {
   "cell_type": "code",
   "execution_count": 46,
   "metadata": {},
   "outputs": [
    {
     "name": "stdout",
     "output_type": "stream",
     "text": [
      "1/1 [==============================] - 1s 918ms/step\n",
      " despite periodic repression, the brotherhood has become one of the most influential movements in the islamic world, particularly in the arab world. for\n",
      "1/1 [==============================] - 1s 976ms/step\n",
      ". the substitution of capital equipment for labor (mechanization and automation) raises the productivity of each worker, resulting in a situation of relatively stagnant wages for the working class amidst rising levels of property income for the capitalist class.\n",
      "1/1 [==============================] - 1s 947ms/step\n",
      " non-revolutionary civil disobedience is a simple disobedience of laws on the grounds that they are judged \"wrong\" by an individual conscience, or as part of an effort to render certain laws ineffective, to cause their repeal, or to exert pressure to get one's political wishes on some other issue.\n",
      "1/1 [==============================] - 1s 917ms/step\n",
      " parliamentary time is also\n",
      "1/1 [==============================] - 1s 919ms/step\n",
      "16,\n",
      "1/1 [==============================] - 1s 886ms/step\n",
      " a progressive tax is\n",
      "1/1 [==============================] - 1s 917ms/step\n",
      " there were 158,349 households\n",
      "1/1 [==============================] - 1s 931ms/step\n",
      "'s full-sized cars reflected the crisis. by 1979, virtually all \"full\n",
      "1/1 [==============================] - 1s 920ms/step\n",
      " teaches nearly 10,000 pupils. the\n",
      "1/1 [==============================] - 1s 891ms/step\n",
      " in 1872, the central\n",
      "1/1 [==============================] - 1s 930ms/step\n",
      " of feynman diagrams.\n",
      "1/1 [==============================] - 1s 903ms/step\n",
      " that disobedience\n",
      "1/1 [==============================] - 1s 957ms/step\n",
      "ogram-force (kgf) (sometimes kilopond), is the force exerted\n",
      "1/1 [==============================] - 1s 893ms/step\n",
      " forward pass\n",
      "1/1 [==============================] - 1s 1s/step\n",
      " in 1946, and won the\n",
      "1/1 [==============================] - 1s 1s/step\n",
      "\n",
      "1/1 [==============================] - 1s 1s/step\n",
      " and its allies in the european theatre of the war. between\n",
      "1/1 [==============================] - 1s 1s/step\n",
      " many machine models different from the standard multi-tape turing machines have been proposed in the literature, for example random access machines. perhaps surprisingly, each of these models can be converted to another without providing any extra computational power. the time and memory consumption of these\n",
      "1/1 [==============================] - 1s 1s/step\n",
      " (currently federica mogher\n",
      "1/1 [==============================] - 1s 1s/step\n",
      " wages due to the expendable nature of the worker in relation to his or her particular job\n",
      "1/1 [==============================] - 1s 1s/step\n",
      " modern primality tests for general numbers n can be divided into two main classes, probabilistic (or \"monte carlo\") and deterministic algorithms. deter\n",
      "1/1 [==============================] - 1s 1s/step\n",
      ".\n",
      "1/1 [==============================] - 1s 1s/step\n",
      "olics to settle in new fr\n",
      "1/1 [==============================] - 1s 953ms/step\n",
      ", often declaring as\n",
      "1/1 [==============================] - 1s 898ms/step\n",
      "ow (1641–1679)\n",
      "1/1 [==============================] - 1s 1s/step\n",
      " during the mass high school education movement from 1910–1940, there was\n",
      "1/1 [==============================] - 1s 1s/step\n",
      " further south the southeast interior was dominated by siouan-speaking catawba, muskogee-speaking creek and choctaw, and the iroquoian-speaking cherokee tribes. when\n",
      "1/1 [==============================] - 1s 988ms/step\n",
      " in cases where the criminalized behavior is pure speech, civil disobedience can consist simply of engaging in the forbidden speech. an example would be w\n",
      "1/1 [==============================] - 1s 928ms/step\n",
      " usually begins to occur at partial pressures more than 50 kilopascals (kpa), equal to about 50% oxygen composition at standard pressure or 2.5 times the normal sea-level o\n",
      "2 partial pressure of about 21 kpa. this is\n",
      "1/1 [==============================] - 1s 936ms/step\n",
      " some civil disobedience defendants choose to make a defiant speech, or a speech explaining their actions, in allocution. in u.\n",
      "1/1 [==============================] - 1s 1s/step\n",
      "ance. they\n",
      "1/1 [==============================] - 1s 988ms/step\n",
      " computational complexity theory is\n",
      "1/1 [==============================] - 1s 920ms/step\n",
      " stock exchange is one\n",
      "1/1 [==============================] - 1s 929ms/step\n",
      " level, the price increases changed competitive positions in many industries, such as automobiles. macroeconomic problems consisted of\n",
      "1/1 [==============================] - 1s 1s/step\n",
      " beijing was rebuilt with new palace\n",
      "1/1 [==============================] - 1s 1s/step\n",
      "ocles' play antig\n",
      "1/1 [==============================] - 1s 1s/step\n",
      " the first network to make the hosts responsible for reliable delivery of data, rather than the network itself, using unreliable datagrams and associated end-to-end protocol mechanisms\n",
      "1/1 [==============================] - 1s 980ms/step\n",
      " quelled in 1598, when henry of\n",
      "1/1 [==============================] - 1s 1s/step\n",
      " such influence with bans on foreign popular culture, control of the internet and unauthorised satellite dishes etc.\n",
      "1/1 [==============================] - 1s 948ms/step\n",
      ", johnson was made a colonel of the i\n",
      "1/1 [==============================] - 1s 1s/step\n",
      ", steeper tax progressivity applied to social spending can result in a more equal distribution of income across the board\n",
      "1/1 [==============================] - 1s 970ms/step\n",
      " 16th and 17th centuries, in particular at the height of its power under the reign of suleiman the magnificent, the o\n",
      "1/1 [==============================] - 1s 977ms/step\n",
      " transference via fleas in goods was likely to be of marginal significance; and that the dna\n",
      "1/1 [==============================] - 1s 936ms/step\n",
      "reek mathematician hero of alex\n",
      "1/1 [==============================] - 1s 971ms/step\n",
      " out by william smith almost a hundred years before the publication of charles darwin's theory of evolution, the principles of succession were developed independently of evolutionary thought. the principle becomes quite\n",
      "1/1 [==============================] - 1s 955ms/step\n",
      " university of chicago press, the largest university press\n",
      "1/1 [==============================] - 1s 1s/step\n",
      ". if we repeat the test n times and pass every time, then the probability that our number is composite is 1/(1-p)n, which decreases exponentially with the number of tests, so we can be as sure as we like (though never perfectly sure) that the number is prime. on the other hand\n",
      "1/1 [==============================] - 1s 951ms/step\n",
      "izes to the lasker\n",
      "1/1 [==============================] - 1s 929ms/step\n",
      " antibodies are generated against tumor cells allowing for\n",
      "1/1 [==============================] - 1s 929ms/step\n",
      " launched on 1 october 1998 under the\n",
      "1/1 [==============================] - 1s 968ms/step\n",
      " west africa, as well as south-east asia, with other conqu\n",
      "1/1 [==============================] - 1s 890ms/step\n",
      ", not the fuel, but nevertheless\n",
      "1/1 [==============================] - 1s 950ms/step\n",
      " a static equilibrium between two forces is the most usual way of measuring forces, using simple devices such as weighing scales and spring balances.\n",
      "1/1 [==============================] - 1s 987ms/step\n",
      " in prewar warsaw\n",
      "1/1 [==============================] - 1s 1s/step\n",
      " prime ideals are the points of algebro-geometric objects, via the notion of the spectrum of a ring\n",
      "1/1 [==============================] - 1s 909ms/step\n",
      " any free oxygen produced by these organisms combined with dissolved iron in the oceans to form banded iron formations. when such\n",
      "1/1 [==============================] - 1s 965ms/step\n",
      " persian scholar ibn sina (av\n",
      "1/1 [==============================] - 1s 1s/step\n",
      " due to its energy content, o2 is used by complex forms of life, such as animals, in cellular respiration (see biological role). other aspects\n",
      "1/1 [==============================] - 1s 924ms/step\n",
      ". new forms include partnering such as public-private partnering\n",
      "1/1 [==============================] - 1s 1s/step\n",
      "\", in which he showed that 21 diverse combinatorial and graph theoretical problems, each infamous for its computational intractability, are np-complete.\n",
      "1/1 [==============================] - 1s 1s/step\n",
      " phrase \"all possible algorithms\" includes not just the algorithms known today, but any algorithm that might be discovered in the future. to show a lower bound\n",
      "1/1 [==============================] - 1s 937ms/step\n",
      ", in his\n",
      "1/1 [==============================] - 1s 917ms/step\n",
      " greek writer on mechanics, philo of byzantium.\n",
      "1/1 [==============================] - 1s 906ms/step\n",
      "1919–1980)\n",
      "1/1 [==============================] - 1s 950ms/step\n",
      ", each housed in a sheath into which it can be withdrawn. some species of cyd\n",
      "1/1 [==============================] - 1s 931ms/step\n",
      " attacks against what it believed were \"apostate\" leaders of muslim states, leaders who held secular leanings or who had introduced or promoted western/foreign ideas and practices into islamic societies.\n",
      "1/1 [==============================] - 1s 1s/step\n",
      " charter declares 30\n",
      "1/1 [==============================] - 1s 955ms/step\n",
      " accessible database has been established for the cataloguing of epitopes from pathogens known to be recognizable by b cells. the emerging field\n",
      "1/1 [==============================] - 1s 1s/step\n",
      " students or 3.7% of the entire student population\n",
      "1/1 [==============================] - 1s 947ms/step\n",
      "omas reid and dugald stewart, whose works were part\n",
      "1/1 [==============================] - 1s 918ms/step\n",
      " impressive 19th-century\n",
      "1/1 [==============================] - 1s 908ms/step\n",
      "ay berwanger became the first winner of\n",
      "1/1 [==============================] - 1s 1s/step\n",
      " 352 votes, but for most\n",
      "1/1 [==============================] - 1s 1s/step\n",
      " to residency registration anymore\n",
      "1/1 [==============================] - 1s 933ms/step\n",
      " effects, the milieu of hormones produced at this time (leptin, pituitary growth hormone, and prolactin) support the interactions between\n",
      "1/1 [==============================] - 1s 938ms/step\n",
      ", a problem refers to the abstract question to be solved. in contrast, an instance of\n",
      "1/1 [==============================] - 1s 963ms/step\n",
      " criminalized behavior is pure speech, civil disobedience can consist simply of engaging in the forbidden speech. an example would be wb\n",
      "1/1 [==============================] - 1s 907ms/step\n",
      "oria's highest maximum temperature since world war ii, of 48.8 °c (119.8 °f) was recorded in hopetoun on 7 february 2009, during the 2009 southeastern australia heat wave.\n",
      "1/1 [==============================] - 1s 890ms/step\n",
      " has two \"coordinating lead authors\", ten to fifteen \"lead authors\", and a somewhat larger number of \"contributing authors\".\n",
      "1/1 [==============================] - 1s 897ms/step\n",
      " its population has been wiped out.\n",
      "1/1 [==============================] - 1s 913ms/step\n",
      " steven barkan writes that if defendants plead not guilty, \"they must decide whether their primary goal will be to win an acquittal and avoid imprisonment or a fine, or to use the proceedings as a forum to inform the jury and the public of the political circumstances surrounding the case and their reasons for breaking the law via civil disobedience.\"\n",
      "1/1 [==============================] - 1s 894ms/step\n",
      " downtown san diego\n",
      "1/1 [==============================] - 1s 982ms/step\n",
      " in modern particle physics, forces and the acceleration of particles are explained as a mathematical by-product of exchange of momentum-carrying gauge bosons.\n",
      "1/1 [==============================] - 1s 899ms/step\n",
      " one key figure in the plans for what would come to be known as american empire, was a geographer named isiah bowman.\n",
      "1/1 [==============================] - 1s 959ms/step\n",
      " the interpretation of islam promoted by this funding was the strict, conservative saudi-based wahhabism or salafism. in its\n",
      "1/1 [==============================] - 1s 949ms/step\n",
      " petrologists can also use fluid inclusion data and perform high temperature and pressure physical experiments to understand the temperatures and pressures at which different mineral phases appear, and how they change through igneous and metamorphic processes. this\n",
      "1/1 [==============================] - 1s 963ms/step\n",
      " immun\n",
      "1/1 [==============================] - 1s 914ms/step\n",
      " and drew attention\n",
      "1/1 [==============================] - 1s 904ms/step\n",
      " when finally edward the confessor returned from his father's refuge in 1041,\n",
      "1/1 [==============================] - 1s 985ms/step\n",
      " the chinese song dynasty in southern china. the\n",
      "1/1 [==============================] - 1s 1s/step\n",
      " stable hierarchy, the pharmacists—and even pharmacist assistants—were assigned status superior to all others in health-related fields such as physicians and acupuncturists\n",
      "1/1 [==============================] - 1s 1s/step\n",
      " lake constance consists of three bodies of water:\n",
      "1/1 [==============================] - 1s 948ms/step\n",
      " law by the court of justice, international law and general principles of european union law.\n",
      "1/1 [==============================] - 1s 934ms/step\n",
      " the best, worst and average case complexity refer to three different ways of measuring the time complexity (or any other complexity measure) of different inputs of the same size. since some inputs\n",
      "1/1 [==============================] - 1s 984ms/step\n",
      " the european court of justice in relation to european union measures, and the latter by the european court of human rights in relation to measures by member states.\n",
      "1/1 [==============================] - 1s 948ms/step\n",
      " in 1900, the los angeles times defined\n",
      "1/1 [==============================] - 1s 919ms/step\n",
      " the united states. jack\n",
      "1/1 [==============================] - 1s 958ms/step\n",
      " toxicity (causing seizures, its most feared effect for divers\n",
      "1/1 [==============================] - 1s 941ms/step\n",
      " it began with a dispute over control of the confluence of the allegheny and monongahela rivers, called the forks of the ohio, and the site of the french fort duquesne and present-day pittsburgh, pennsylvania. the dispute erupted into violence in the battle of jumonville glen in may 1754,\n",
      "1/1 [==============================] - 1s 948ms/step\n",
      " in five of the fish species live in amazonian rivers and streams.\n"
     ]
    }
   ],
   "source": [
    "answers = []\n",
    "for index, row in test_df.iterrows():\n",
    "    context = str(row[\"context\"])\n",
    "    question = str(row[\"question\"])\n",
    "\n",
    "    answer = generate_ans(context, question, model, tokenizer)\n",
    "    print(answer)\n",
    "    answers.append(answer)"
   ]
  },
  {
   "cell_type": "markdown",
   "metadata": {},
   "source": [
    "To append the 'predicted answers' to the test_100.csv file and save it"
   ]
  },
  {
   "cell_type": "code",
   "execution_count": 44,
   "metadata": {},
   "outputs": [],
   "source": [
    "test_df[\"answer\"] = answers"
   ]
  },
  {
   "cell_type": "code",
   "execution_count": 45,
   "metadata": {},
   "outputs": [],
   "source": [
    "test_df.to_csv(\"test_100_with_answers.csv\", index=False)"
   ]
  },
  {
   "cell_type": "code",
   "execution_count": null,
   "metadata": {},
   "outputs": [],
   "source": []
  }
 ],
 "metadata": {
  "accelerator": "GPU",
  "colab": {
   "authorship_tag": "ABX9TyN7kX/LI6VRcqhCKR1iMpuO",
   "collapsed_sections": [],
   "include_colab_link": true,
   "mount_file_id": "180nmZwcBzuNlM1oqe5Tojx_JVeP6VdMj",
   "name": "RoBERTa_SQuAD2.0-v2.ipynb",
   "provenance": []
  },
  "kernelspec": {
   "display_name": "Python 3 (ipykernel)",
   "language": "python",
   "name": "python3"
  },
  "language_info": {
   "codemirror_mode": {
    "name": "ipython",
    "version": 3
   },
   "file_extension": ".py",
   "mimetype": "text/x-python",
   "name": "python",
   "nbconvert_exporter": "python",
   "pygments_lexer": "ipython3",
   "version": "3.10.9"
  }
 },
 "nbformat": 4,
 "nbformat_minor": 1
}
